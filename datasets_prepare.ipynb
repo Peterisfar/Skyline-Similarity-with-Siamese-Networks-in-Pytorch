{
 "cells": [
  {
   "cell_type": "markdown",
   "metadata": {},
   "source": [
    "# Imports"
   ]
  },
  {
   "cell_type": "code",
   "execution_count": 10,
   "metadata": {},
   "outputs": [],
   "source": [
    "%matplotlib inline\n",
    "import matplotlib.pyplot  as plt\n",
    "import os\n",
    "import random\n",
    "from tqdm import trange, tqdm\n",
    "import linecache\n",
    "import shutil\n",
    "import numpy as np\n",
    "import math"
   ]
  },
  {
   "cell_type": "markdown",
   "metadata": {},
   "source": [
    "## Config"
   ]
  },
  {
   "cell_type": "code",
   "execution_count": 2,
   "metadata": {},
   "outputs": [],
   "source": [
    "cfg_num = 10000 # samples P or N\n",
    "cfg_counts = 50 # samples from single line\n",
    "cfg_length = 300 # length of sample"
   ]
  },
  {
   "cell_type": "markdown",
   "metadata": {},
   "source": [
    "# Utils\n",
    "read data from txt"
   ]
  },
  {
   "cell_type": "code",
   "execution_count": 3,
   "metadata": {},
   "outputs": [],
   "source": [
    "def read_data(path):\n",
    "    f = open(path)\n",
    "    skylines = []\n",
    "    lines = f.readlines()\n",
    "    for line in lines:\n",
    "        skyline = list(map(int, map(float, line.strip().split(',')[:-1])))\n",
    "        skyline = [skyline[i] for i in range(1, len(skyline), 2)]\n",
    "        skylines.append(skyline)\n",
    "    f.close()\n",
    "    return skylines\n",
    "\n",
    "def read_data_row(path, num):       \n",
    "    return linecache.getline(path,num)"
   ]
  },
  {
   "cell_type": "code",
   "execution_count": 4,
   "metadata": {},
   "outputs": [
    {
     "name": "stdout",
     "output_type": "stream",
     "text": [
      "1753\n"
     ]
    },
    {
     "data": {
      "text/plain": [
       "[<matplotlib.lines.Line2D at 0x7fee7bb4b588>]"
      ]
     },
     "execution_count": 4,
     "metadata": {},
     "output_type": "execute_result"
    },
    {
     "data": {
      "image/png": "[encoded data removed]",
      "text/plain": [
       "<Figure size 432x288 with 1 Axes>"
      ]
     },
     "metadata": {
      "needs_background": "light"
     },
     "output_type": "display_data"
    }
   ],
   "source": [
    "path_d = \"./data/data_geo3k/dem.txt\"\n",
    "path_r = \"./data/data_geo3k/real.txt\"\n",
    "skylines_d = read_data(path_d)\n",
    "skylines_r = read_data(path_r)\n",
    "print(len(skylines_d))\n",
    "plt.plot(skylines_d[0])\n",
    "plt.plot(skylines_r[0])"
   ]
  },
  {
   "cell_type": "markdown",
   "metadata": {},
   "source": [
    "# datasets prepare\n",
    "\n",
    "   构建训练样本和测试样本"
   ]
  },
  {
   "cell_type": "code",
   "execution_count": null,
   "metadata": {},
   "outputs": [],
   "source": [
    "def datasets_prepare(lines_d, lines_r, train=True):\n",
    "    if train:\n",
    "        if \"train\" in os.listdir(\"./data/\"):\n",
    "            shutil.rmtree('./data/train')  \n",
    "        os.mkdir(\"./data/train\")\n",
    "        \n",
    "       \n",
    "        # train P samples\n",
    "        for i in trange(cfg_num):\n",
    "            index = random.randint(0, len(lines_d)-1)\n",
    "            for j in range(cfg_counts):\n",
    "                left = random.randint(0, min(len(lines_d[index]), len(lines_r[index]))-cfg_length-1)\n",
    "                right = left + cfg_length\n",
    "                str_tmp = str(lines_r[index][left:right]).split('[')[1].split(']')[0].replace(' ', '') + ' ' \\\n",
    "                          + str(lines_d[index][left:right]).split('[')[1].split(']')[0].replace(' ', '') + ' ' \\\n",
    "                          + '1'\n",
    "                with open(\"./data/train/{}.{}.txt\".format(i, j), 'w') as f_a:\n",
    "                    f_a.write(str_tmp)\n",
    "        # train N samples       \n",
    "        for i in trange(cfg_num, 2*cfg_num):\n",
    "            index_d = random.randint(0, len(lines_d)-1)\n",
    "            index_r = random.randint(0, len(lines_d)-1)\n",
    "            if index_d == index_r:\n",
    "                index_r += 1\n",
    "            for j in range(cfg_counts):\n",
    "                left = random.randint(0, min(len(lines_d[index_d]), len(lines_r[index_r]))-cfg_length-1)\n",
    "                right = left + cfg_length\n",
    "                str_tmp = str(lines_r[index_r][left:right]).split('[')[1].split(']')[0].replace(' ', '') + ' ' \\\n",
    "                          + str(lines_d[index_d][left:right]).split('[')[1].split(']')[0].replace(' ', '') + ' ' \\\n",
    "                          + '0'\n",
    "                with open(\"./data/train/{}.{}.txt\".format(i, j), 'w') as f_a:\n",
    "                    f_a.write(str_tmp)\n",
    "    else:\n",
    "        if \"test\" in os.listdir(\"./data/\"):\n",
    "            shutil.rmtree('./data/test')  \n",
    "        os.mkdir(\"./data/test\")\n",
    "        \n",
    "            \n",
    "        # test  sample 1000\n",
    "        for i in trange(1000):\n",
    "            index = random.randint(0, len(lines_d)-1)\n",
    "            for j in range(1):\n",
    "                left = random.randint(0, min(len(lines_d[index]), len(lines_r[index]))-cfg_length-1)\n",
    "                right = left + cfg_length\n",
    "                str_tmp = str(lines_r[index][left:right]).split('[')[1].split(']')[0].replace(' ', '') + ' ' \\\n",
    "                          + str(lines_d[index][left:right]).split('[')[1].split(']')[0].replace(' ', '') + ' ' \\\n",
    "                          + '1'\n",
    "                with open(\"./data/test/{}.{}.txt\".format(i, j), 'w') as f_a:\n",
    "                    f_a.write(str_tmp)\n",
    "#         # test N samples       \n",
    "#         for i in trange(1000, 2000):\n",
    "#             index_d = random.randint(0, len(lines_d)-1)\n",
    "#             index_r = random.randint(0, len(lines_d)-1)\n",
    "#             if index_d == index_r:\n",
    "#                 index_r += 1\n",
    "#             for j in range(1):\n",
    "#                 left = random.randint(0, min(len(lines_d[index_d]), len(lines_r[index_r]))-cfg_length-1)\n",
    "#                 right = left + cfg_length\n",
    "#                 str_tmp = str(lines_r[index_r][left:right]).split('[')[1].split(']')[0].replace(' ', '') + ' ' \\\n",
    "#                           + str(lines_d[index_d][left:right]).split('[')[1].split(']')[0].replace(' ', '') + ' ' \\\n",
    "#                           + '0'\n",
    "#                 with open(\"./data/test/{}.{}.txt\".format(i, j), 'w') as f_a:\n",
    "#                     f_a.write(str_tmp)\n",
    "                \n",
    "# build                \n",
    "datasets_prepare(skylines_d[:1000], skylines_r[:1000], train=True)\n",
    "datasets_prepare(skylines_d[1000:], skylines_r[1000:], train=False)"
   ]
  },
  {
   "cell_type": "code",
   "execution_count": 13,
   "metadata": {},
   "outputs": [
    {
     "name": "stdout",
     "output_type": "stream",
     "text": [
      "3\n",
      "[1]\n"
     ]
    },
    {
     "data": {
      "text/plain": [
       "(0, 300)"
      ]
     },
     "execution_count": 13,
     "metadata": {},
     "output_type": "execute_result"
    },
    {
     "data": {
      "image/png": "[encoded data removed]",
      "text/plain": [
       "<Figure size 432x288 with 1 Axes>"
      ]
     },
     "metadata": {
      "needs_background": "light"
     },
     "output_type": "display_data"
    }
   ],
   "source": [
    "# visual data\n",
    "id0 = random.randint(0, 19999)\n",
    "id1 = random.randint(0, 49)\n",
    "skyline_ = read_data_row(\"./data/train/{}.{}.txt\".format(id0, id1), 1)\n",
    "skyline = skyline_.strip().split(\" \")\n",
    "line0 = np.array(list(map(int, skyline[0].split(','))))\n",
    "line1 = np.array(list(map(int, skyline[1].split(','))))\n",
    "line2 = Rotate()(line0)\n",
    "plt.plot(line0)\n",
    "plt.plot(line1)\n",
    "plt.plot(line2)\n",
    "print(list(map(int, skyline[2])))\n",
    "plt.ylim(0,300)"
   ]
  },
  {
   "cell_type": "code",
   "execution_count": 48,
   "metadata": {},
   "outputs": [
    {
     "name": "stdout",
     "output_type": "stream",
     "text": [
      "-22\n",
      "-2\n"
     ]
    },
    {
     "data": {
      "text/plain": [
       "(0, 300)"
      ]
     },
     "execution_count": 48,
     "metadata": {},
     "output_type": "execute_result"
    },
    {
     "data": {
      "image/png": "[encoded data removed]",
      "text/plain": [
       "<Figure size 432x288 with 1 Axes>"
      ]
     },
     "metadata": {
      "needs_background": "light"
     },
     "output_type": "display_data"
    }
   ],
   "source": [
    "# show rotate and \n",
    "id0 = random.randint(0, 19999)\n",
    "id1 = random.randint(0, 49)\n",
    "skyline_ = read_data_row(\"./data/train/{}.{}.txt\".format(id0, id1), 1)\n",
    "skyline = skyline_.strip().split(\" \")\n",
    "line0 = np.array(list(map(int, skyline[0].split(','))))\n",
    "line2 = Move()(line2)\n",
    "line2 = Rotate()(line0)\n",
    "\n",
    "plt.plot(line0)\n",
    "plt.plot(line2)\n",
    "plt.ylim(0,300)"
   ]
  },
  {
   "cell_type": "code",
   "execution_count": 42,
   "metadata": {},
   "outputs": [],
   "source": [
    "class Rotate(object):\n",
    "    def __call__(self, line):\n",
    "        angle = random.randint(-6,6)\n",
    "        print(angle)\n",
    "        pointx = len(line)//2\n",
    "        pointy = line[pointx]\n",
    "        angle = float(angle) * 3.1415  / float(180)\n",
    "        x = np.arange(len(line))\n",
    "        y = (x-pointx) * math.sin(angle) + (line - pointy) * math.cos(angle) + pointy\n",
    "        \n",
    "        return y\n",
    "    \n",
    "class Move(object):\n",
    "    def __call__(self, line):\n",
    "        delta = random.randint(-30,30)\n",
    "        print(delta)\n",
    "        return line + delta"
   ]
  },
  {
   "cell_type": "markdown",
   "metadata": {},
   "source": [
    "# 差值统计"
   ]
  },
  {
   "cell_type": "code",
   "execution_count": 26,
   "metadata": {},
   "outputs": [
    {
     "name": "stderr",
     "output_type": "stream",
     "text": [
      "100%|██████████| 1000000/1000000 [03:23<00:00, 4908.46it/s]\n"
     ]
    }
   ],
   "source": [
    "root_path = \"./data/train/\"\n",
    "filenames = os.listdir(root_path)\n",
    "point_x = []\n",
    "point_y = []\n",
    "for filename in tqdm(filenames):\n",
    "    skyline_ = read_data_row(os.path.join(root_path, filename), 1)\n",
    "    skyline = skyline_.strip().split(\" \")\n",
    "    err = sum(abs(np.array(list(map(int, skyline[0].split(',')))) - \n",
    "            np.array(list(map(int, skyline[1].split(','))))))\n",
    "    point_x.append(err)\n",
    "    point_y.append(np.array(list(map(int, skyline[2])))[0]*10+5)\n",
    "\n"
   ]
  },
  {
   "cell_type": "code",
   "execution_count": 28,
   "metadata": {},
   "outputs": [
    {
     "data": {
      "text/plain": [
       "<BarContainer object of 100000 artists>"
      ]
     },
     "execution_count": 28,
     "metadata": {},
     "output_type": "execute_result"
    },
    {
     "data": {
      "image/png": "[encoded data removed]",
      "text/plain": [
       "<Figure size 432x288 with 1 Axes>"
      ]
     },
     "metadata": {
      "needs_background": "light"
     },
     "output_type": "display_data"
    }
   ],
   "source": [
    "plt.bar(point_x[:100000], point_y[:100000])"
   ]
  },
  {
   "cell_type": "code",
   "execution_count": 54,
   "metadata": {},
   "outputs": [
    {
     "data": {
      "text/plain": [
       "(0, 100000)"
      ]
     },
     "execution_count": 54,
     "metadata": {},
     "output_type": "execute_result"
    },
    {
     "data": {
      "image/png": "[encoded data removed]",
      "text/plain": [
       "<Figure size 432x288 with 1 Axes>"
      ]
     },
     "metadata": {
      "needs_background": "light"
     },
     "output_type": "display_data"
    }
   ],
   "source": [
    "ptx = np.array(point_x[:100000])\n",
    "pty = np.array(point_y[:100000])\n",
    "\n",
    "plt.bar(ptx[pty==15], pty[pty==15])\n",
    "plt.xlim(0, 100000)"
   ]
  },
  {
   "cell_type": "code",
   "execution_count": 56,
   "metadata": {},
   "outputs": [
    {
     "data": {
      "text/plain": [
       "(0, 15)"
      ]
     },
     "execution_count": 56,
     "metadata": {},
     "output_type": "execute_result"
    },
    {
     "data": {
      "image/png": "[encoded data removed]",
      "text/plain": [
       "<Figure size 432x288 with 1 Axes>"
      ]
     },
     "metadata": {
      "needs_background": "light"
     },
     "output_type": "display_data"
    }
   ],
   "source": [
    "ptx = np.array(point_x[:100000])\n",
    "pty = np.array(point_y[:100000])\n",
    "\n",
    "plt.bar(ptx[pty==5], pty[pty==5])\n",
    "plt.xlim(0, 100000)\n",
    "plt.ylim(0, 15)"
   ]
  },
  {
   "cell_type": "code",
   "execution_count": 27,
   "metadata": {},
   "outputs": [
    {
     "data": {
      "text/plain": [
       "<matplotlib.collections.PathCollection at 0x7fd492baa080>"
      ]
     },
     "execution_count": 27,
     "metadata": {},
     "output_type": "execute_result"
    },
    {
     "data": {
      "image/png": "[encoded data removed]",
      "text/plain": [
       "<Figure size 432x288 with 1 Axes>"
      ]
     },
     "metadata": {
      "needs_background": "light"
     },
     "output_type": "display_data"
    }
   ],
   "source": [
    "plt.scatter(point_x, point_y) "
   ]
  },
  {
   "cell_type": "code",
   "execution_count": 55,
   "metadata": {},
   "outputs": [
    {
     "name": "stdout",
     "output_type": "stream",
     "text": [
      "55\n"
     ]
    }
   ],
   "source": [
    "print(len([point_x[i] for i in range(len(point_x)) if  point_x[i] < 1000 and point_y[i]==5]))"
   ]
  }
 ],
 "metadata": {
  "kernelspec": {
   "display_name": "Python 3",
   "language": "python",
   "name": "python3"
  },
  "language_info": {
   "codemirror_mode": {
    "name": "ipython",
    "version": 3
   },
   "file_extension": ".py",
   "mimetype": "text/x-python",
   "name": "python",
   "nbconvert_exporter": "python",
   "pygments_lexer": "ipython3",
   "version": "3.5.2"
  }
 },
 "nbformat": 4,
 "nbformat_minor": 2
}

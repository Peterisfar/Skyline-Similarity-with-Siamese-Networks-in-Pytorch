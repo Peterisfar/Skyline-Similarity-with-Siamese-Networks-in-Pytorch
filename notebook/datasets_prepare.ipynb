{
 "cells": [
  {
   "cell_type": "markdown",
   "metadata": {},
   "source": [
    "# Imports"
   ]
  },
  {
   "cell_type": "code",
   "execution_count": 1,
   "metadata": {},
   "outputs": [],
   "source": [
    "%matplotlib inline\n",
    "import matplotlib.pyplot  as plt\n",
    "import os\n",
    "import random\n",
    "from tqdm import trange, tqdm\n",
    "import linecache\n",
    "import shutil\n",
    "import numpy as np\n",
    "import math\n",
    "import cv2"
   ]
  },
  {
   "cell_type": "markdown",
   "metadata": {},
   "source": [
    "## Config"
   ]
  },
  {
   "cell_type": "code",
   "execution_count": 2,
   "metadata": {},
   "outputs": [],
   "source": [
    "cfg_num = 10000 # samples P or N\n",
    "cfg_counts = 5 # samples from single line\n",
    "cfg_length = 320 # length of sample"
   ]
  },
  {
   "cell_type": "markdown",
   "metadata": {},
   "source": [
    "# Utils\n",
    "read data from txt"
   ]
  },
  {
   "cell_type": "code",
   "execution_count": 3,
   "metadata": {},
   "outputs": [],
   "source": [
    "def mask2line(img):\n",
    "    height, width, _ = img.shape\n",
    "    line = []\n",
    "    for w in range(width):\n",
    "        for h in range(height):\n",
    "            if (img[h,w] == np.array([0, 0, 255])).all():\n",
    "                line.append(h)\n",
    "                break\n",
    "    return line"
   ]
  },
  {
   "cell_type": "code",
   "execution_count": 4,
   "metadata": {},
   "outputs": [],
   "source": [
    "def read_data(path):\n",
    "    f = open(path)\n",
    "    skylines = []\n",
    "    lines = f.readlines()\n",
    "    for i, line in enumerate(lines[:30]):\n",
    "        print(i)\n",
    "        skyline = list(map(int, map(float, line.strip().split(',')[:-1])))\n",
    "        points = [(skyline[i], skyline[i+1]) for i in range(0, len(skyline)-1, 2)]\n",
    "        \n",
    "        img = np.zeros((480, 640, 3), np.uint8)\n",
    "        for i, point in enumerate(points):\n",
    "            if i == len(points) -1:\n",
    "                break\n",
    "            cv2.line(img, points[i], points[i+1], (0,0,255), 1)\n",
    "        \n",
    "        skyline = mask2line(img)\n",
    "        \n",
    "        skylines.append(skyline)\n",
    "    \n",
    "    f.close()\n",
    "    return skylines\n",
    "\n"
   ]
  },
  {
   "cell_type": "code",
   "execution_count": 5,
   "metadata": {},
   "outputs": [],
   "source": [
    "def read_data_row(path, num):       \n",
    "    return linecache.getline(path,num)"
   ]
  },
  {
   "cell_type": "code",
   "execution_count": 6,
   "metadata": {},
   "outputs": [
    {
     "name": "stdout",
     "output_type": "stream",
     "text": [
      "0\n",
      "1\n",
      "2\n",
      "3\n",
      "4\n",
      "5\n",
      "6\n",
      "7\n",
      "8\n",
      "9\n",
      "10\n",
      "11\n",
      "12\n",
      "13\n",
      "14\n",
      "15\n",
      "16\n",
      "17\n",
      "18\n",
      "19\n",
      "20\n",
      "21\n",
      "22\n",
      "23\n",
      "24\n",
      "25\n",
      "26\n",
      "27\n",
      "28\n",
      "29\n",
      "0\n",
      "1\n",
      "2\n",
      "3\n",
      "4\n",
      "5\n",
      "6\n",
      "7\n",
      "8\n",
      "9\n",
      "10\n",
      "11\n",
      "12\n",
      "13\n",
      "14\n",
      "15\n",
      "16\n",
      "17\n",
      "18\n",
      "19\n",
      "20\n",
      "21\n",
      "22\n",
      "23\n",
      "24\n",
      "25\n",
      "26\n",
      "27\n",
      "28\n",
      "29\n",
      "30\n"
     ]
    }
   ],
   "source": [
    "path_d = \"../data/data_geo3k/dem.txt\"\n",
    "path_r = \"../data/data_geo3k/real.txt\"\n",
    "skylines_d = read_data(path_d)\n",
    "skylines_r = read_data(path_r)\n",
    "print(len(skylines_d))\n"
   ]
  },
  {
   "cell_type": "code",
   "execution_count": 94,
   "metadata": {},
   "outputs": [
    {
     "data": {
      "text/plain": [
       "(0, 480)"
      ]
     },
     "execution_count": 94,
     "metadata": {},
     "output_type": "execute_result"
    },
    {
     "data": {
      "image/png": "[encoded data removed]",
      "text/plain": [
       "<Figure size 432x288 with 1 Axes>"
      ]
     },
     "metadata": {
      "needs_background": "light"
     },
     "output_type": "display_data"
    }
   ],
   "source": [
    "plt.plot(skylines_d[15])\n",
    "plt.plot(skylines_r[15])\n",
    "plt.ylim(0,480)"
   ]
  },
  {
   "cell_type": "markdown",
   "metadata": {},
   "source": [
    "# 曲率显示"
   ]
  },
  {
   "cell_type": "code",
   "execution_count": 45,
   "metadata": {},
   "outputs": [],
   "source": [
    "import numpy.linalg as LA\n",
    "def PJcurvature(x,y):\n",
    "    \"\"\"\n",
    "    input  : the coordinate of the three point\n",
    "    output : the curvature and norm direction\n",
    "    \"\"\"\n",
    "    t_a = LA.norm([x[1]-x[0],y[1]-y[0]])\n",
    "    t_b = LA.norm([x[2]-x[1],y[2]-y[1]])\n",
    "    \n",
    "    M = np.array([\n",
    "        [1, -t_a, t_a**2],\n",
    "        [1, 0,    0     ],\n",
    "        [1,  t_b, t_b**2]\n",
    "    ])\n",
    "    \n",
    "    a = np.matmul(LA.inv(M),x)\n",
    "    b = np.matmul(LA.inv(M),y)\n",
    "\n",
    "    kappa = 2*(a[2]*b[1]-b[2]*a[1])/(a[1]**2.+b[1]**2.)**(1.5)\n",
    "    return kappa, [b[1],-a[1]]/np.sqrt(a[1]**2.+b[1]**2.)"
   ]
  },
  {
   "cell_type": "code",
   "execution_count": 99,
   "metadata": {},
   "outputs": [
    {
     "name": "stdout",
     "output_type": "stream",
     "text": [
      "[187 196 203 204 211 215 215 215 217 214 214 207 207 209 210 207 214 211\n",
      " 214 219 222 222]\n",
      "[198 201 199 208 212 211 214 214 210 212 212 209 208 211 211 209 218 216\n",
      " 219 225 228 228]\n"
     ]
    },
    {
     "data": {
      "image/png": "[encoded data removed]",
      "text/plain": [
       "<Figure size 432x288 with 1 Axes>"
      ]
     },
     "metadata": {
      "needs_background": "light"
     },
     "output_type": "display_data"
    },
    {
     "data": {
      "image/png": "[encoded data removed]",
      "text/plain": [
       "<Figure size 432x288 with 1 Axes>"
      ]
     },
     "metadata": {
      "needs_background": "light"
     },
     "output_type": "display_data"
    }
   ],
   "source": [
    "for i in range(2):\n",
    "    if i==0:\n",
    "        theta_arr = np.array(skylines_d[20][0:-1:30])\n",
    "    else:\n",
    "        theta_arr = np.array(skylines_r[20][0:-1:30])\n",
    "    print(theta_arr)\n",
    "    ka = []\n",
    "    no = []\n",
    "    po = []\n",
    "    for idx,theta in enumerate(theta_arr[1:-2]):\n",
    "        x = np.arange(len(theta_arr[idx:idx+3]))\n",
    "        y = theta_arr[idx:idx+3]\n",
    "        kappa,norm = PJcurvature(x,y)\n",
    "        ka.append(kappa)\n",
    "        no.append(norm)\n",
    "        po.append([x[1],y[1]])\n",
    "\n",
    "    po = np.array(po)\n",
    "    no = np.array(no)\n",
    "    ka = np.array(ka)\n",
    "    plt.figure()\n",
    "    plt.plot(ka)"
   ]
  },
  {
   "cell_type": "code",
   "execution_count": 29,
   "metadata": {},
   "outputs": [
    {
     "ename": "IndexError",
     "evalue": "list index out of range",
     "output_type": "error",
     "traceback": [
      "\u001b[0;31m---------------------------------------------------------------------------\u001b[0m",
      "\u001b[0;31mIndexError\u001b[0m                                Traceback (most recent call last)",
      "\u001b[0;32m<ipython-input-29-ab2af35b0f8d>\u001b[0m in \u001b[0;36m<module>\u001b[0;34m\u001b[0m\n\u001b[0;32m----> 1\u001b[0;31m \u001b[0mplt\u001b[0m\u001b[0;34m.\u001b[0m\u001b[0mplot\u001b[0m\u001b[0;34m(\u001b[0m\u001b[0mskylines_d\u001b[0m\u001b[0;34m[\u001b[0m\u001b[0;36m1752\u001b[0m\u001b[0;34m]\u001b[0m\u001b[0;34m)\u001b[0m\u001b[0;34m\u001b[0m\u001b[0m\n\u001b[0m\u001b[1;32m      2\u001b[0m \u001b[0mplt\u001b[0m\u001b[0;34m.\u001b[0m\u001b[0mplot\u001b[0m\u001b[0;34m(\u001b[0m\u001b[0mskylines_r\u001b[0m\u001b[0;34m[\u001b[0m\u001b[0;36m1752\u001b[0m\u001b[0;34m]\u001b[0m\u001b[0;34m)\u001b[0m\u001b[0;34m\u001b[0m\u001b[0m\n",
      "\u001b[0;31mIndexError\u001b[0m: list index out of range"
     ]
    }
   ],
   "source": [
    "plt.plot(skylines_d[1752])\n",
    "plt.plot(skylines_r[1752])"
   ]
  },
  {
   "cell_type": "code",
   "execution_count": 32,
   "metadata": {},
   "outputs": [
    {
     "data": {
      "text/plain": [
       "array([55, 55, 55])"
      ]
     },
     "execution_count": 32,
     "metadata": {},
     "output_type": "execute_result"
    }
   ],
   "source": [
    "np.array(skylines_d[0])[1:1+3]"
   ]
  },
  {
   "cell_type": "code",
   "execution_count": 34,
   "metadata": {},
   "outputs": [],
   "source": [
    "a = np.array([1,2,3,4,5,6])"
   ]
  },
  {
   "cell_type": "code",
   "execution_count": 37,
   "metadata": {},
   "outputs": [
    {
     "data": {
      "text/plain": [
       "array([1, 3, 5])"
      ]
     },
     "execution_count": 37,
     "metadata": {},
     "output_type": "execute_result"
    }
   ],
   "source": [
    "np."
   ]
  },
  {
   "cell_type": "markdown",
   "metadata": {},
   "source": [
    "# datasets prepare\n",
    "\n",
    "   构建训练样本和测试样本"
   ]
  },
  {
   "cell_type": "code",
   "execution_count": 16,
   "metadata": {},
   "outputs": [
    {
     "name": "stderr",
     "output_type": "stream",
     "text": [
      "100%|██████████| 10000/10000 [00:06<00:00, 1566.15it/s]\n",
      "100%|██████████| 10000/10000 [00:06<00:00, 1529.75it/s]\n",
      "100%|██████████| 752/752 [00:00<00:00, 5667.57it/s]\n",
      "100%|██████████| 752/752 [00:00<00:00, 7567.80it/s]\n"
     ]
    }
   ],
   "source": [
    "def datasets_prepare(lines_d, lines_r, train=True):\n",
    "    if train:\n",
    "        if \"train\" in os.listdir(\"../data/\"):\n",
    "            shutil.rmtree('../data/train')  \n",
    "        os.mkdir(\"../data/train\")\n",
    "        \n",
    "        if \"train_val\" in os.listdir(\"../data/\"):\n",
    "            shutil.rmtree(\"../data/train_val\")\n",
    "        os.mkdir(\"../data/train_val\")\n",
    "        \n",
    "       \n",
    "        # train P samples\n",
    "        for i in trange(cfg_num):\n",
    "            index = random.randint(0, len(lines_d)-1)\n",
    "            for j in range(cfg_counts):\n",
    "                left = random.randint(0, min(len(lines_d[index]), len(lines_r[index]))-cfg_length-1)\n",
    "                right = left + cfg_length\n",
    "                str_tmp = str(lines_r[index][left:right]).split('[')[1].split(']')[0].replace(' ', '') + ' ' \\\n",
    "                          + str(lines_d[index][left:right]).split('[')[1].split(']')[0].replace(' ', '') + ' ' \\\n",
    "                          + '1'\n",
    "                \n",
    "                #  get train-positive samples\n",
    "                with open(\"../data/train/{}.{}.txt\".format(i, j), 'w') as f_a:\n",
    "                    f_a.write(str_tmp)\n",
    "               # get train_val for calculate top-N\n",
    "                if j == 0 and i < 1000:\n",
    "                    with open(\"../data/train_val/{}.{}\".format(i, j), 'w') as f_a:\n",
    "                        f_a.write(str_tmp)\n",
    "                    \n",
    "        # train N samples       \n",
    "        for i in trange(cfg_num, 2*cfg_num):\n",
    "            index_d = random.randint(0, len(lines_d)-1)\n",
    "            index_r = random.randint(0, len(lines_d)-1)\n",
    "            if index_d == index_r:\n",
    "                index_r += 1\n",
    "            for j in range(cfg_counts):\n",
    "                left = random.randint(0, min(len(lines_d[index_d]), len(lines_r[index_r]))-cfg_length-1)\n",
    "                right = left + cfg_length\n",
    "                str_tmp = str(lines_r[index_r][left:right]).split('[')[1].split(']')[0].replace(' ', '') + ' ' \\\n",
    "                          + str(lines_d[index_d][left:right]).split('[')[1].split(']')[0].replace(' ', '') + ' ' \\\n",
    "                          + '0'\n",
    "                with open(\"../data/train/{}.{}.txt\".format(i, j), 'w') as f_a:\n",
    "                    f_a.write(str_tmp)          \n",
    "                        \n",
    "    else:\n",
    "        if \"test\" in os.listdir(\"../data/\"):\n",
    "            shutil.rmtree('../data/test')  \n",
    "        os.mkdir(\"../data/test\")\n",
    "        \n",
    "        if \"val\" in os.listdir(\"../data/\"):\n",
    "            shutil.rmtree('../data/val')\n",
    "        os.mkdir(\"../data/val\")\n",
    "        \n",
    "        # test  sample 752\n",
    "        for i in trange(752):\n",
    "            index = i\n",
    "            for j in range(1):\n",
    "                left = random.randint(0, min(len(lines_d[index]), len(lines_r[index]))-cfg_length-1)\n",
    "                right = left + cfg_length\n",
    "                str_tmp = str(lines_r[index][left:right]).split('[')[1].split(']')[0].replace(' ', '') + ' ' \\\n",
    "                          + str(lines_d[index][left:right]).split('[')[1].split(']')[0].replace(' ', '') + ' ' \\\n",
    "                          + '1'\n",
    "                \n",
    "                # get test samples for calculate top-N\n",
    "                with open(\"../data/test/{}.{}.txt\".format(i, j), 'w') as f_a:\n",
    "                    f_a.write(str_tmp)\n",
    "                # get val samples for train-val\n",
    "                with open(\"../data/val/{}.{}.txt\".format(i, j), 'w') as f_a:\n",
    "                    f_a.write(str_tmp)\n",
    "                \n",
    "        # test N samples       \n",
    "        for i in trange(752, 752*2):\n",
    "            index_d = random.randint(0, len(lines_d)-1)\n",
    "            index_r = random.randint(0, len(lines_d)-1)\n",
    "            if index_d == index_r:\n",
    "                index_r += 1\n",
    "            for j in range(1):\n",
    "                left = random.randint(0, min(len(lines_d[index_d]), len(lines_r[index_r]))-cfg_length-1)\n",
    "                right = left + cfg_length\n",
    "                str_tmp = str(lines_r[index_r][left:right]).split('[')[1].split(']')[0].replace(' ', '') + ' ' \\\n",
    "                          + str(lines_d[index_d][left:right]).split('[')[1].split(']')[0].replace(' ', '') + ' ' \\\n",
    "                          + '0'\n",
    "               \n",
    "            # get val_negtive samples\n",
    "                with open(\"../data/val/{}.{}.txt\".format(i, j), 'w') as f_a:\n",
    "                    f_a.write(str_tmp)\n",
    "                \n",
    "# build                \n",
    "datasets_prepare(skylines_d[:1000], skylines_r[:1000], train=True)\n",
    "datasets_prepare(skylines_d[1000:1752], skylines_r[1000:1752], train=False)"
   ]
  },
  {
   "cell_type": "code",
   "execution_count": 24,
   "metadata": {},
   "outputs": [
    {
     "data": {
      "text/plain": [
       "(0, 480)"
      ]
     },
     "execution_count": 24,
     "metadata": {},
     "output_type": "execute_result"
    },
    {
     "data": {
      "image/png": "[encoded data removed]",
      "text/plain": [
       "<Figure size 432x288 with 1 Axes>"
      ]
     },
     "metadata": {
      "needs_background": "light"
     },
     "output_type": "display_data"
    }
   ],
   "source": [
    "# visual data\n",
    "id0 = random.randint(0, 9999)\n",
    "id1 = random.randint(0, 4)\n",
    "skyline_ = read_data_row(\"../data/train/{}.{}.txt\".format(id0, id1), 1)\n",
    "skyline = skyline_.strip().split(\" \")\n",
    "line0 = np.array(list(map(int, skyline[0].split(','))))\n",
    "line1 = np.array(list(map(int, skyline[1].split(','))))\n",
    "# line2 = Rotate()(line0)\n",
    "plt.plot(line0)\n",
    "plt.plot(line1)\n",
    "# plt.plot(line2)\n",
    "plt.ylim(0,480)"
   ]
  },
  {
   "cell_type": "code",
   "execution_count": 27,
   "metadata": {},
   "outputs": [],
   "source": [
    "class Rotate(object):\n",
    "    def __call__(self, line):\n",
    "        angle = random.randint(-6,6)\n",
    "        print(angle)\n",
    "        pointx = len(line)//2\n",
    "        pointy = line[pointx]\n",
    "        angle = float(angle) * 3.1415  / float(180)\n",
    "        x = np.arange(len(line))\n",
    "        y = (x-pointx) * math.sin(angle) + (line - pointy) * math.cos(angle) + pointy\n",
    "        \n",
    "        return y\n",
    "    \n",
    "class Move(object):\n",
    "    def __call__(self, line):\n",
    "        delta = random.randint(-100,100)\n",
    "        print(delta)\n",
    "        return line + delta"
   ]
  },
  {
   "cell_type": "code",
   "execution_count": 59,
   "metadata": {},
   "outputs": [
    {
     "name": "stdout",
     "output_type": "stream",
     "text": [
      "-82\n",
      "2\n"
     ]
    },
    {
     "data": {
      "text/plain": [
       "(0, 480)"
      ]
     },
     "execution_count": 59,
     "metadata": {},
     "output_type": "execute_result"
    },
    {
     "data": {
      "image/png": "[encoded data removed]",
      "text/plain": [
       "<Figure size 432x288 with 1 Axes>"
      ]
     },
     "metadata": {
      "needs_background": "light"
     },
     "output_type": "display_data"
    }
   ],
   "source": [
    "# show rotate and \n",
    "id0 = random.randint(0, 9999)\n",
    "id1 = random.randint(0, 4)\n",
    "skyline_ = read_data_row(\"../data/train/{}.{}.txt\".format(id0, id1), 1)\n",
    "skyline = skyline_.strip().split(\" \")\n",
    "line0 = np.array(list(map(int, skyline[0].split(','))))\n",
    "line2 = Move()(line0)\n",
    "line2 = Rotate()(line2)\n",
    "\n",
    "plt.plot(line0)\n",
    "plt.plot(line2)\n",
    "plt.ylim(0,480)"
   ]
  },
  {
   "cell_type": "code",
   "execution_count": 25,
   "metadata": {},
   "outputs": [],
   "source": []
  },
  {
   "cell_type": "markdown",
   "metadata": {},
   "source": [
    "# 差值统计"
   ]
  },
  {
   "cell_type": "code",
   "execution_count": 40,
   "metadata": {},
   "outputs": [
    {
     "name": "stderr",
     "output_type": "stream",
     "text": [
      "100%|██████████| 100000/100000 [02:05<00:00, 795.26it/s]\n"
     ]
    }
   ],
   "source": [
    "root_path = \"../data/train/\"\n",
    "filenames = os.listdir(root_path)\n",
    "point_x = []\n",
    "point_y = []\n",
    "for filename in tqdm(filenames):\n",
    "    skyline_ = read_data_row(os.path.join(root_path, filename), 1)\n",
    "    skyline = skyline_.strip().split(\" \")\n",
    "    err = sum(abs(np.array(list(map(int, skyline[0].split(',')))) - \n",
    "            np.array(list(map(int, skyline[1].split(','))))))\n",
    "    point_x.append(err)\n",
    "    point_y.append(np.array(list(map(int, skyline[2])))[0]*10+5)\n",
    "\n"
   ]
  },
  {
   "cell_type": "code",
   "execution_count": 41,
   "metadata": {},
   "outputs": [
    {
     "data": {
      "text/plain": [
       "<BarContainer object of 100000 artists>"
      ]
     },
     "execution_count": 41,
     "metadata": {},
     "output_type": "execute_result"
    },
    {
     "data": {
      "image/png": "[encoded data removed]",
      "text/plain": [
       "<Figure size 432x288 with 1 Axes>"
      ]
     },
     "metadata": {
      "needs_background": "light"
     },
     "output_type": "display_data"
    }
   ],
   "source": [
    "plt.bar(point_x[:100000], point_y[:100000])"
   ]
  },
  {
   "cell_type": "code",
   "execution_count": 42,
   "metadata": {},
   "outputs": [
    {
     "data": {
      "text/plain": [
       "(0, 100000)"
      ]
     },
     "execution_count": 42,
     "metadata": {},
     "output_type": "execute_result"
    },
    {
     "data": {
      "image/png": "[encoded data removed]",
      "text/plain": [
       "<Figure size 432x288 with 1 Axes>"
      ]
     },
     "metadata": {
      "needs_background": "light"
     },
     "output_type": "display_data"
    }
   ],
   "source": [
    "ptx = np.array(point_x[:100000])\n",
    "pty = np.array(point_y[:100000])\n",
    "\n",
    "plt.bar(ptx[pty==15], pty[pty==15])\n",
    "plt.xlim(0, 100000)"
   ]
  },
  {
   "cell_type": "code",
   "execution_count": 43,
   "metadata": {},
   "outputs": [
    {
     "data": {
      "text/plain": [
       "(0, 15)"
      ]
     },
     "execution_count": 43,
     "metadata": {},
     "output_type": "execute_result"
    },
    {
     "data": {
      "image/png": "[encoded data removed]",
      "text/plain": [
       "<Figure size 432x288 with 1 Axes>"
      ]
     },
     "metadata": {
      "needs_background": "light"
     },
     "output_type": "display_data"
    }
   ],
   "source": [
    "ptx = np.array(point_x[:100000])\n",
    "pty = np.array(point_y[:100000])\n",
    "\n",
    "plt.bar(ptx[pty==5], pty[pty==5])\n",
    "plt.xlim(0, 100000)\n",
    "plt.ylim(0, 15)"
   ]
  },
  {
   "cell_type": "code",
   "execution_count": 45,
   "metadata": {},
   "outputs": [
    {
     "name": "stdout",
     "output_type": "stream",
     "text": [
      "0\n"
     ]
    }
   ],
   "source": [
    "print(len([point_x[i] for i in range(len(point_x)) if  point_x[i] < 1000 and point_y[i]==5]))"
   ]
  },
  {
   "cell_type": "code",
   "execution_count": null,
   "metadata": {},
   "outputs": [],
   "source": []
  }
 ],
 "metadata": {
  "kernelspec": {
   "display_name": "Python 3",
   "language": "python",
   "name": "python3"
  },
  "language_info": {
   "codemirror_mode": {
    "name": "ipython",
    "version": 3
   },
   "file_extension": ".py",
   "mimetype": "text/x-python",
   "name": "python",
   "nbconvert_exporter": "python",
   "pygments_lexer": "ipython3",
   "version": "3.5.2"
  }
 },
 "nbformat": 4,
 "nbformat_minor": 2
}
